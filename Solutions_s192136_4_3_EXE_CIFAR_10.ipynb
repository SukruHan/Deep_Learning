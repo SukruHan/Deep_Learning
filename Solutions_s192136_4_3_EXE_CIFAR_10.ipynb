{
 "cells": [
  {
   "cell_type": "markdown",
   "metadata": {
    "id": "bu1Wy6Xb81Sn"
   },
   "source": [
    "# Credits\n",
    "\n",
    "This is heavily influenced from https://github.com/pytorch/tutorials"
   ]
  },
  {
   "cell_type": "markdown",
   "metadata": {
    "id": "oZW0gaQO81Sq"
   },
   "source": [
    "# CIFAR-10\n",
    "\n",
    "In thins notebook you need to put what you have learned into practice, and create your own convolutional classifier for the CIFAR-10 dataset.\n",
    "\n",
    "It has the classes: ‘airplane’, ‘automobile’, ‘bird’, ‘cat’, ‘deer’, ‘dog’, ‘frog’, ‘horse’, ‘ship’, ‘truck’.\n",
    "The images in CIFAR-10 are of size 3x32x32, i.e. 3-channel color images of 32x32 pixels in size.\n",
    "\n",
    "![cifar10](https://github.com/DeepLearningDTU/02456-deep-learning-with-PyTorch/blob/master/static_files/cifar10.png?raw=1)\n",
    "\n",
    "\n",
    "In order to train a classifier the following steps needs to be performed:\n",
    "\n",
    "1. Load and normalizing the CIFAR10 training and test datasets using\n",
    "   ``torchvision``\n",
    "2. Define a Convolutional Neural Network\n",
    "3. Define a loss function\n",
    "4. Train the network on the training data\n",
    "5. Test the network on the test data\n",
    "\n",
    "We will help you along the way.\n",
    "We indicate the places you need to modify the code with `# Your code here!`.\n",
    "It is however a good idea to read the entire assignment before you begin coding!"
   ]
  },
  {
   "cell_type": "markdown",
   "metadata": {
    "id": "htyg7xxN81St"
   },
   "source": [
    "## 1. Loading and normalizing CIFAR10\n",
    "\n",
    "Using ``torchvision``, it’s extremely easy to load CIFAR10."
   ]
  },
  {
   "cell_type": "code",
   "execution_count": 1,
   "metadata": {
    "id": "v3u2GIWr81Su"
   },
   "outputs": [],
   "source": [
    "%matplotlib inline\n",
    "import matplotlib.pyplot as plt\n",
    "import numpy as np\n",
    "\n",
    "import torch\n",
    "import torchvision\n",
    "import torchvision.transforms as transforms"
   ]
  },
  {
   "cell_type": "markdown",
   "metadata": {
    "id": "xx5SHRkm81S0"
   },
   "source": [
    "The output of torchvision datasets are PILImage images of range [0, 1].\n",
    "We transform them to Tensors of normalized range [-1, 1]\n",
    "\n",
    "**NB** Modify the code below to only use a small part of the dataset if your computer is very slow."
   ]
  },
  {
   "cell_type": "code",
   "execution_count": 2,
   "metadata": {
    "colab": {
     "base_uri": "https://localhost:8080/",
     "height": 119,
     "referenced_widgets": [
      "0bb25d16b7de4a3fa56a00d8c9c5cca1",
      "a6710b1dc7604809b59eaf8081a9da0b",
      "3dd073a8f4a74809b1ae34990268cb48",
      "96428da2942a450aab2463463c3d69f2",
      "de4ede3b169a47309db4abc983527fa0",
      "3a9cb2d5e3894cc38fc0dd7b7f0c775d",
      "017da63ab3df4b30887a281d8f0e2c27",
      "04c00a2ad49348bbb840c08694cf5269"
     ]
    },
    "id": "QZeTujLC81S3",
    "outputId": "e407f9e2-a39e-4582-e08a-e526cdd12de2"
   },
   "outputs": [
    {
     "name": "stdout",
     "output_type": "stream",
     "text": [
      "Downloading https://www.cs.toronto.edu/~kriz/cifar-10-python.tar.gz to ./data/cifar-10-python.tar.gz\n"
     ]
    },
    {
     "data": {
      "application/vnd.jupyter.widget-view+json": {
       "model_id": "0bb25d16b7de4a3fa56a00d8c9c5cca1",
       "version_major": 2,
       "version_minor": 0
      },
      "text/plain": [
       "HBox(children=(FloatProgress(value=1.0, bar_style='info', max=1.0), HTML(value='')))"
      ]
     },
     "metadata": {
      "tags": []
     },
     "output_type": "display_data"
    },
    {
     "name": "stdout",
     "output_type": "stream",
     "text": [
      "Extracting ./data/cifar-10-python.tar.gz to ./data\n",
      "Files already downloaded and verified\n",
      "used classes: ('plane', 'car', 'bird', 'cat', 'deer', 'dog', 'frog', 'horse', 'ship', 'truck')\n"
     ]
    }
   ],
   "source": [
    "transform = transforms.Compose(\n",
    "    [transforms.ToTensor(),\n",
    "     transforms.Normalize((0.5, 0.5, 0.5),(0.5, 0.5, 0.5))\n",
    "    ]\n",
    ")\n",
    "\n",
    "# Load dataset\n",
    "trainset = torchvision.datasets.CIFAR10(root='./data', train=True,\n",
    "                                        download=True, transform=transform)\n",
    "testset = torchvision.datasets.CIFAR10(root='./data', train=False,\n",
    "                                       download=True, transform=transform)\n",
    "\n",
    "classes = ('plane', 'car', 'bird', 'cat', 'deer',\n",
    "           'dog', 'frog', 'horse', 'ship', 'truck')\n",
    "\n",
    "used_categories = range(len(classes))\n",
    "\n",
    "## USE CODE BELOW IF YOUR COMPUTER IS TOO SLOW\n",
    "reduce_dataset = False\n",
    "if reduce_dataset:\n",
    "    used_categories = (3, 5) # cats and dogs\n",
    "\n",
    "    classes = [classes[i] for i in used_categories]\n",
    "    new_train_data = []\n",
    "    new_train_labels = []\n",
    "\n",
    "    new_test_data = []\n",
    "    new_test_labels = []\n",
    "    for i, t in enumerate(used_categories):\n",
    "        new_train_data.append(trainset.data[np.where(np.array(trainset.targets) == t)])\n",
    "        new_train_labels += [i for _ in range(new_train_data[-1].shape[0])]\n",
    "\n",
    "        new_test_data.append(testset.data[np.where(np.array(testset.targets) == t)])\n",
    "        new_test_labels += [i for _ in range(new_test_data[-1].shape[0])]\n",
    "\n",
    "    new_train_data = np.concatenate(new_train_data, 0)\n",
    "    trainset.data = new_train_data\n",
    "    trainset.targets = new_train_labels\n",
    "\n",
    "    new_test_data = np.concatenate(new_test_data, 0)\n",
    "    testset.data = new_test_data\n",
    "    testset.targets = new_test_labels\n",
    "\n",
    "    \n",
    "trainloader = torch.utils.data.DataLoader(trainset, batch_size=4,\n",
    "                                          shuffle=True, num_workers=2)\n",
    "testloader = torch.utils.data.DataLoader(testset, batch_size=4,\n",
    "                                         shuffle=True, num_workers=2)\n",
    "train_data_iter = iter(trainloader)\n",
    "test_data_iter = iter(testloader)\n",
    "print('used classes:', classes)"
   ]
  },
  {
   "cell_type": "code",
   "execution_count": 3,
   "metadata": {
    "colab": {
     "base_uri": "https://localhost:8080/",
     "height": 173
    },
    "id": "JDHkc52L81S9",
    "outputId": "9ca1de03-68ee-4c3c-8f51-22ea25c8252a"
   },
   "outputs": [
    {
     "name": "stdout",
     "output_type": "stream",
     "text": [
      "# Training data\n",
      "Number of points: 50000\n",
      "Batch dimension [B x C x H x W]: torch.Size([4, 3, 32, 32])\n",
      "Number of distinct labels: 10\n",
      "\n",
      "# Test data\n",
      "Number of points: 10000\n",
      "Batch dimension [B x C x H x W]: torch.Size([4, 3, 32, 32])\n",
      "Number of distinct labels: 10\n"
     ]
    }
   ],
   "source": [
    "print(\"# Training data\")\n",
    "print(\"Number of points:\", len(trainset))\n",
    "x, y = next(iter(trainloader))\n",
    "print(\"Batch dimension [B x C x H x W]:\", x.shape)\n",
    "print(\"Number of distinct labels:\", len(set(trainset.targets)))\n",
    "\n",
    "\n",
    "print(\"\\n# Test data\")\n",
    "print(\"Number of points:\", len(testset))\n",
    "x, y = next(iter(testloader))\n",
    "print(\"Batch dimension [B x C x H x W]:\", x.shape)\n",
    "print(\"Number of distinct labels:\", len(set(testset.targets)))"
   ]
  },
  {
   "cell_type": "markdown",
   "metadata": {
    "id": "xSA1h94681TB"
   },
   "source": [
    "Let us show some of the training images, for fun.\n",
    "\n"
   ]
  },
  {
   "cell_type": "code",
   "execution_count": 4,
   "metadata": {
    "colab": {
     "base_uri": "https://localhost:8080/",
     "height": 173
    },
    "id": "njJy0klP81TD",
    "outputId": "6812d4d8-5102-457b-fe16-64ac28abe658"
   },
   "outputs": [
    {
     "name": "stdout",
     "output_type": "stream",
     "text": [
      "  car truck  bird  deer\n"
     ]
    },
    {
     "data": {
      "image/png": "[encoded data removed]",
      "text/plain": [
       "<Figure size 432x288 with 1 Axes>"
      ]
     },
     "metadata": {
      "needs_background": "light",
      "tags": []
     },
     "output_type": "display_data"
    },
    {
     "name": "stdout",
     "output_type": "stream",
     "text": [
      "\n"
     ]
    }
   ],
   "source": [
    "# Run this cell multiple time to see more samples\n",
    "\n",
    "def imshow(img):\n",
    "    \"\"\" show an image \"\"\"\n",
    "    img = img / 2 + 0.5 # unnormalize\n",
    "    npimg = img.numpy()\n",
    "    plt.imshow(np.transpose(npimg, (1, 2, 0)))\n",
    "\n",
    "\n",
    "# get some random training images\n",
    "images, labels = train_data_iter.next()\n",
    "\n",
    "# show images\n",
    "imshow(torchvision.utils.make_grid(images))\n",
    "\n",
    "# print labels\n",
    "print(' '.join('%5s' % classes[labels[j]] for j in range(4)))"
   ]
  },
  {
   "cell_type": "markdown",
   "metadata": {
    "id": "Wt3BVFMF81TI"
   },
   "source": [
    "## 2. Define a Convolutional Neural Network\n",
    "\n",
    "**Assignment 1:** Define a convolutional neural network. \n",
    "You may use the code from previous notebooks.\n",
    "We suggest that you start with a small network, and make sure that everything is working.\n",
    "Once you can train successfully come back and improve the architecture"
   ]
  },
  {
   "cell_type": "code",
   "execution_count": 9,
   "metadata": {
    "colab": {
     "base_uri": "https://localhost:8080/",
     "height": 191
    },
    "id": "_EsKbw3o81TK",
    "outputId": "a20cdc4e-b743-4ded-ee13-131d56b5dde5"
   },
   "outputs": [
    {
     "name": "stdout",
     "output_type": "stream",
     "text": [
      "Net(\n",
      "  (conv_1): Conv2d(3, 32, kernel_size=(5, 5), stride=(1, 1), padding=(2, 2))\n",
      "  (max_pool1): MaxPool2d(kernel_size=2, stride=2, padding=0, dilation=1, ceil_mode=False)\n",
      "  (conv_2): Conv2d(32, 32, kernel_size=(5, 5), stride=(1, 1), padding=(2, 2))\n",
      "  (avg_pool2): AvgPool2d(kernel_size=2, stride=2, padding=0)\n",
      "  (conv_3): Conv2d(32, 64, kernel_size=(5, 5), stride=(1, 1), padding=(2, 2))\n",
      "  (avg_pool3): AvgPool2d(kernel_size=2, stride=2, padding=0)\n",
      "  (l_1): Linear(in_features=1024, out_features=64, bias=True)\n",
      "  (l_out): Linear(in_features=64, out_features=10, bias=False)\n",
      ")\n"
     ]
    }
   ],
   "source": [
    "from torch.autograd import Variable\n",
    "import torch.nn as nn\n",
    "import torch.nn.functional as F\n",
    "\n",
    "num_classes = 10\n",
    "channels = trainset.data.shape[3]\n",
    "height = trainset.data.shape[1]\n",
    "width = trainset.data.shape[2]\n",
    "num_filters_conv1 = 32\n",
    "kernel_size_conv1 = 5 # [height, width]\n",
    "stride_conv1 = 1 # [stride_height, stride_width]\n",
    "padding_conv1 = 2\n",
    "mp1_ks = 2\n",
    "mp1_stride = 2\n",
    "\n",
    "num_filters_conv2 = 32\n",
    "kernel_size_conv2 = 5\n",
    "padding_conv2 = 2\n",
    "stride_conv2 = 1\n",
    "mp2_ks = 2\n",
    "mp2_stride = 2\n",
    "\n",
    "num_filters_conv3 = 64\n",
    "kernel_size_conv3 = 5\n",
    "padding_conv3 = 2\n",
    "stride_conv3 = 1\n",
    "mp3_ks = 2\n",
    "mp3_stride = 2\n",
    "\n",
    "num_l1 = 64\n",
    "num_l2 = 32\n",
    "\n",
    "\n",
    "class Net(nn.Module):\n",
    "  def __init__(self, num_classes):\n",
    "    super(Net, self).__init__()\n",
    "    self.num_classes = num_classes\n",
    "    \n",
    "    # Your code here!\n",
    "\n",
    "    # Convolution 1:\n",
    "    self.conv_1 = nn.Conv2d(in_channels=channels, out_channels=num_filters_conv1,kernel_size=kernel_size_conv1,\n",
    "                        stride=stride_conv1, padding = padding_conv1)\n",
    "    \n",
    "    self.max_pool1 = nn.MaxPool2d(kernel_size = mp1_ks, stride = mp1_stride)\n",
    "    self.mp1_out_height = int(0.5 * self.compute_conv_dim(height, 1))\n",
    "    self.mp1_out_width = int(0.5 * self.compute_conv_dim(width, 1))\n",
    "\n",
    "    # Convolution 2:\n",
    "    self.conv_2 = nn.Conv2d(in_channels=num_filters_conv1, out_channels=num_filters_conv2, kernel_size=kernel_size_conv2,\n",
    "                        stride=stride_conv2, padding = padding_conv2)\n",
    "\n",
    "    self.avg_pool2 = nn.AvgPool2d(kernel_size = mp2_ks, stride = mp2_stride)\n",
    "    self.mp2_out_height = int(0.5 * self.compute_conv_dim(self.mp1_out_height, 2))\n",
    "    self.mp2_out_width = int(0.5 * self.compute_conv_dim(self.mp1_out_width, 2))\n",
    "    \n",
    "    \n",
    "    # Conv 3\n",
    "    self.conv_3 = nn.Conv2d(in_channels=num_filters_conv2, out_channels=num_filters_conv3, kernel_size=kernel_size_conv3,\n",
    "                        stride=stride_conv3,padding = padding_conv3)\n",
    "    \n",
    "    self.avg_pool3 = nn.AvgPool2d(kernel_size = mp3_ks, stride = mp3_stride)\n",
    "    self.mp3_out_height = int(0.5 * self.compute_conv_dim(self.mp2_out_height, 3))\n",
    "    self.mp3_out_width = int(0.5 * self.compute_conv_dim(self.mp2_out_width, 3))\n",
    "\n",
    "    self.l1_in_features = num_filters_conv3 * self.mp3_out_height * self.mp3_out_width        \n",
    "    self.l_1 = nn.Linear(in_features=self.l1_in_features, out_features=num_l1, bias=True)\n",
    "    \n",
    "    # Tried;\n",
    "    #self.l_2 = nn.Linear(in_features=num_l1, out_features=num_l2, bias=True)\n",
    "    \n",
    "    self.l_out = nn.Linear(in_features=num_l1, out_features=num_classes, bias=False)\n",
    "\n",
    "\n",
    "  def forward(self, x):\n",
    "    # Your code here!\n",
    "\n",
    "    # Regularization:\n",
    "    dropout = nn.Dropout(p=0.1)\n",
    "    #batchnorm21 = nn.BatchNorm2d(num_filters_conv1)\n",
    "    #batchnorm22 = nn.BatchNorm2d(num_filters_conv2)\n",
    "    #batchnorm23 = nn.BatchNorm2d(num_filters_conv3)\n",
    "    #batchnorm1 = nn.BatchNorm1d(num_l1)\n",
    "\n",
    "    x = F.relu(self.conv_1(x))\n",
    "    x = self.max_pool1(x)\n",
    "\n",
    "    #x = batchnorm21(x) \n",
    "\n",
    "    x = F.relu(self.conv_2(x))\n",
    "    x = self.avg_pool2(x)\n",
    "\n",
    "    #x = batchnorm22(x)\n",
    "\n",
    "    x = F.relu(self.conv_3(x))\n",
    "    x = self.avg_pool3(x)\n",
    "\n",
    "    #x = batchnorm23(x)\n",
    "\n",
    "    x = x.view(-1, self.l1_in_features)\n",
    "\n",
    "    #x = F.relu(self.l_1(x))\n",
    "    #x = F.relu(self.l_2(x))\n",
    "\n",
    "    x = dropout(F.relu(self.l_1(x)))\n",
    "    #x = batchnorm1(x)\n",
    "    #x = dropout(F.relu(self.l_2(x)))\n",
    "    #return F.softmax(self.l_out(x), dim=1)\n",
    "\n",
    "    return (self.l_out(x))\n",
    "\n",
    "  def compute_conv_dim(self, dim_size, layer):\n",
    "    if layer == 1:\n",
    "      return int((dim_size - kernel_size_conv1 + 2 * padding_conv1) / stride_conv1 + 1)\n",
    "    elif layer == 2:\n",
    "      return int((dim_size - kernel_size_conv2 + 2 * padding_conv2) / stride_conv2 + 1)\n",
    "    elif layer == 3:\n",
    "      return int((dim_size - kernel_size_conv3 + 2 * padding_conv3) / stride_conv3 + 1)\n",
    "\n",
    "net = Net(len(used_categories))\n",
    "print(net)"
   ]
  },
  {
   "cell_type": "markdown",
   "metadata": {
    "id": "7-IUg3sq81TQ"
   },
   "source": [
    "## 3. Define a Loss function and optimizer\n",
    "\n",
    "**Assignment 2:** Implement the criterion and optimizer. \n",
    "We suggest Classification Cross-Entropy loss and SGD with momentum.\n",
    "You might need to experiment a bit with the learning rate."
   ]
  },
  {
   "cell_type": "code",
   "execution_count": 10,
   "metadata": {
    "id": "48AX85QP81TR"
   },
   "outputs": [],
   "source": [
    "import torch.optim as optim\n",
    "\n",
    "criterion = nn.CrossEntropyLoss()  # Your code here!\n",
    "optimizer = optim.SGD(net.parameters(), lr=0.0003, momentum=0.9)  # Your code here!"
   ]
  },
  {
   "cell_type": "markdown",
   "metadata": {
    "id": "-WneIN7C81TV"
   },
   "source": [
    "## 4. Train the network\n",
    "\n",
    "**Assignment 3:** Finish the training loop below. \n",
    "Start by using a small number of epochs (e.g. 3).\n",
    "Even with a low number of epochs you should be able to see results that are better than chance.\n",
    "When everything is working increase the number of epochs to find out how good your network really is."
   ]
  },
  {
   "cell_type": "code",
   "execution_count": 13,
   "metadata": {
    "colab": {
     "base_uri": "https://localhost:8080/",
     "height": 1000
    },
    "id": "NkUanRRb81TW",
    "outputId": "e7d85381-d91c-4948-feb3-0aaf7047dbaf"
   },
   "outputs": [
    {
     "name": "stdout",
     "output_type": "stream",
     "text": [
      "[1,  1000] loss: 2.300\n",
      "[1,  2000] loss: 2.280\n",
      "[1,  3000] loss: 2.157\n",
      "[1,  4000] loss: 2.042\n",
      "[1,  5000] loss: 1.977\n",
      "[1,  6000] loss: 1.915\n",
      "[1,  7000] loss: 1.848\n",
      "[1,  8000] loss: 1.788\n",
      "[1,  9000] loss: 1.738\n",
      "[1, 10000] loss: 1.700\n",
      "[1, 11000] loss: 1.658\n",
      "[1, 12000] loss: 1.624\n",
      "[2,  1000] loss: 1.616\n",
      "[2,  2000] loss: 1.579\n",
      "[2,  3000] loss: 1.533\n",
      "[2,  4000] loss: 1.519\n",
      "[2,  5000] loss: 1.534\n",
      "[2,  6000] loss: 1.495\n",
      "[2,  7000] loss: 1.488\n",
      "[2,  8000] loss: 1.477\n",
      "[2,  9000] loss: 1.428\n",
      "[2, 10000] loss: 1.446\n",
      "[2, 11000] loss: 1.396\n",
      "[2, 12000] loss: 1.429\n",
      "[3,  1000] loss: 1.375\n",
      "[3,  2000] loss: 1.388\n",
      "[3,  3000] loss: 1.344\n",
      "[3,  4000] loss: 1.324\n",
      "[3,  5000] loss: 1.320\n",
      "[3,  6000] loss: 1.343\n",
      "[3,  7000] loss: 1.307\n",
      "[3,  8000] loss: 1.274\n",
      "[3,  9000] loss: 1.247\n",
      "[3, 10000] loss: 1.252\n",
      "[3, 11000] loss: 1.244\n",
      "[3, 12000] loss: 1.228\n",
      "[4,  1000] loss: 1.189\n",
      "[4,  2000] loss: 1.236\n",
      "[4,  3000] loss: 1.214\n",
      "[4,  4000] loss: 1.175\n",
      "[4,  5000] loss: 1.177\n",
      "[4,  6000] loss: 1.180\n",
      "[4,  7000] loss: 1.138\n",
      "[4,  8000] loss: 1.136\n",
      "[4,  9000] loss: 1.136\n",
      "[4, 10000] loss: 1.109\n",
      "[4, 11000] loss: 1.110\n",
      "[4, 12000] loss: 1.120\n",
      "[5,  1000] loss: 1.085\n",
      "[5,  2000] loss: 1.109\n",
      "[5,  3000] loss: 1.069\n",
      "[5,  4000] loss: 1.022\n",
      "[5,  5000] loss: 1.079\n",
      "[5,  6000] loss: 1.028\n",
      "[5,  7000] loss: 1.059\n",
      "[5,  8000] loss: 1.031\n",
      "[5,  9000] loss: 1.025\n",
      "[5, 10000] loss: 1.040\n",
      "[5, 11000] loss: 1.030\n",
      "[5, 12000] loss: 1.009\n",
      "[6,  1000] loss: 0.970\n",
      "[6,  2000] loss: 0.980\n",
      "[6,  3000] loss: 0.951\n",
      "[6,  4000] loss: 0.995\n",
      "[6,  5000] loss: 0.958\n",
      "[6,  6000] loss: 0.957\n",
      "[6,  7000] loss: 0.945\n",
      "[6,  8000] loss: 0.985\n",
      "[6,  9000] loss: 0.969\n",
      "[6, 10000] loss: 0.945\n",
      "[6, 11000] loss: 0.936\n",
      "[6, 12000] loss: 0.946\n",
      "[7,  1000] loss: 0.882\n",
      "[7,  2000] loss: 0.892\n",
      "[7,  3000] loss: 0.893\n",
      "[7,  4000] loss: 0.899\n",
      "[7,  5000] loss: 0.896\n",
      "[7,  6000] loss: 0.895\n",
      "[7,  7000] loss: 0.899\n",
      "[7,  8000] loss: 0.909\n",
      "[7,  9000] loss: 0.887\n",
      "[7, 10000] loss: 0.869\n",
      "[7, 11000] loss: 0.862\n",
      "[7, 12000] loss: 0.862\n",
      "[8,  1000] loss: 0.810\n",
      "[8,  2000] loss: 0.861\n",
      "[8,  3000] loss: 0.839\n",
      "[8,  4000] loss: 0.803\n",
      "[8,  5000] loss: 0.833\n",
      "[8,  6000] loss: 0.822\n",
      "[8,  7000] loss: 0.835\n",
      "[8,  8000] loss: 0.813\n",
      "[8,  9000] loss: 0.811\n",
      "[8, 10000] loss: 0.849\n",
      "[8, 11000] loss: 0.810\n",
      "[8, 12000] loss: 0.796\n",
      "[9,  1000] loss: 0.757\n",
      "[9,  2000] loss: 0.774\n",
      "[9,  3000] loss: 0.767\n",
      "[9,  4000] loss: 0.743\n",
      "[9,  5000] loss: 0.760\n",
      "[9,  6000] loss: 0.782\n",
      "[9,  7000] loss: 0.786\n",
      "[9,  8000] loss: 0.772\n",
      "[9,  9000] loss: 0.729\n",
      "[9, 10000] loss: 0.785\n",
      "[9, 11000] loss: 0.758\n",
      "[9, 12000] loss: 0.778\n",
      "[10,  1000] loss: 0.722\n",
      "[10,  2000] loss: 0.692\n",
      "[10,  3000] loss: 0.716\n",
      "[10,  4000] loss: 0.716\n",
      "[10,  5000] loss: 0.736\n",
      "[10,  6000] loss: 0.720\n",
      "[10,  7000] loss: 0.741\n",
      "[10,  8000] loss: 0.736\n",
      "[10,  9000] loss: 0.693\n",
      "[10, 10000] loss: 0.728\n",
      "[10, 11000] loss: 0.722\n",
      "[10, 12000] loss: 0.722\n",
      "[11,  1000] loss: 0.659\n",
      "[11,  2000] loss: 0.648\n",
      "[11,  3000] loss: 0.670\n",
      "[11,  4000] loss: 0.666\n",
      "[11,  5000] loss: 0.685\n",
      "[11,  6000] loss: 0.659\n",
      "[11,  7000] loss: 0.703\n",
      "[11,  8000] loss: 0.709\n",
      "[11,  9000] loss: 0.670\n",
      "[11, 10000] loss: 0.663\n",
      "[11, 11000] loss: 0.702\n",
      "[11, 12000] loss: 0.656\n",
      "[12,  1000] loss: 0.640\n",
      "[12,  2000] loss: 0.633\n",
      "[12,  3000] loss: 0.631\n",
      "[12,  4000] loss: 0.643\n",
      "[12,  5000] loss: 0.643\n",
      "[12,  6000] loss: 0.633\n",
      "[12,  7000] loss: 0.654\n",
      "[12,  8000] loss: 0.622\n",
      "[12,  9000] loss: 0.641\n",
      "[12, 10000] loss: 0.650\n",
      "[12, 11000] loss: 0.629\n",
      "[12, 12000] loss: 0.665\n",
      "[13,  1000] loss: 0.575\n",
      "[13,  2000] loss: 0.597\n",
      "[13,  3000] loss: 0.617\n",
      "[13,  4000] loss: 0.600\n",
      "[13,  5000] loss: 0.600\n",
      "[13,  6000] loss: 0.597\n",
      "[13,  7000] loss: 0.594\n",
      "[13,  8000] loss: 0.608\n",
      "[13,  9000] loss: 0.624\n",
      "[13, 10000] loss: 0.605\n",
      "[13, 11000] loss: 0.590\n",
      "[13, 12000] loss: 0.607\n",
      "[14,  1000] loss: 0.583\n",
      "[14,  2000] loss: 0.546\n",
      "[14,  3000] loss: 0.581\n",
      "[14,  4000] loss: 0.538\n",
      "[14,  5000] loss: 0.568\n",
      "[14,  6000] loss: 0.554\n",
      "[14,  7000] loss: 0.538\n",
      "[14,  8000] loss: 0.599\n",
      "[14,  9000] loss: 0.577\n",
      "[14, 10000] loss: 0.588\n",
      "[14, 11000] loss: 0.591\n",
      "[14, 12000] loss: 0.594\n",
      "[15,  1000] loss: 0.508\n",
      "[15,  2000] loss: 0.542\n",
      "[15,  3000] loss: 0.522\n",
      "[15,  4000] loss: 0.567\n",
      "[15,  5000] loss: 0.528\n",
      "[15,  6000] loss: 0.546\n",
      "[15,  7000] loss: 0.562\n",
      "[15,  8000] loss: 0.548\n",
      "[15,  9000] loss: 0.530\n",
      "[15, 10000] loss: 0.540\n",
      "[15, 11000] loss: 0.538\n",
      "[15, 12000] loss: 0.563\n",
      "Finished Training\n"
     ]
    }
   ],
   "source": [
    "num_epoch = 15  # Your code here!\n",
    "\n",
    "for epoch in range(num_epoch):  # loop over the dataset multiple times\n",
    "\n",
    "    running_loss = 0.0\n",
    "    for i, data in enumerate(trainloader, 0):\n",
    "        # get the inputs\n",
    "        inputs, labels = data\n",
    "\n",
    "        # wrap them in Variable\n",
    "        inputs, labels = Variable(inputs), Variable(labels)\n",
    "\n",
    "        # zero the parameter gradients\n",
    "        # Your code here!\n",
    "\n",
    "        optimizer.zero_grad()\n",
    "\n",
    "        # forward + backward + optimize\n",
    "        # Your code here!\n",
    "\n",
    "        outputs = net(inputs)\n",
    "        loss = criterion(outputs, labels)\n",
    "        loss.backward()\n",
    "        optimizer.step()\n",
    "\n",
    "        # print statistics\n",
    "        running_loss += loss.item() #data[0]\n",
    "        if i % 1000 == 999:    # print every 1000 mini-batches\n",
    "            print('[%d, %5d] loss: %.3f' %\n",
    "                  (epoch + 1, i + 1, running_loss / 1000))\n",
    "            running_loss = 0.0\n",
    "\n",
    "print('Finished Training')"
   ]
  },
  {
   "cell_type": "markdown",
   "metadata": {
    "id": "0qAsbC8I81Ta"
   },
   "source": [
    "## 5. Test the network on the test data\n",
    "\n",
    "Now we need to check if the network has learnt anything at all.\n",
    "We will check this by predicting the class label that the neural network outputs, and checking it against the ground truth.\n",
    "If the prediction is correct, we add the sample to the list of correct predictions.\n",
    "\n",
    "Okay, first step. Let us display an image from the test set to get familiar."
   ]
  },
  {
   "cell_type": "code",
   "execution_count": 18,
   "metadata": {
    "colab": {
     "base_uri": "https://localhost:8080/",
     "height": 173
    },
    "id": "7LT0RoAC81Tc",
    "outputId": "37f6bd9d-17c9-4abe-c35f-b274868c6198"
   },
   "outputs": [
    {
     "data": {
      "image/png": "[encoded data removed]",
      "text/plain": [
       "<Figure size 432x288 with 1 Axes>"
      ]
     },
     "metadata": {
      "needs_background": "light",
      "tags": []
     },
     "output_type": "display_data"
    },
    {
     "name": "stdout",
     "output_type": "stream",
     "text": [
      "GroundTruth:    bird  frog  ship  bird\n",
      "Predicted:      bird  frog  ship  bird\n"
     ]
    }
   ],
   "source": [
    "images, labels = test_data_iter.next()\n",
    "\n",
    "# print images\n",
    "imshow(torchvision.utils.make_grid(images))\n",
    "plt.show()\n",
    "\n",
    "print('GroundTruth:  ', ' '.join('%5s' % classes[labels[j]] for j in range(4)))\n",
    "\n",
    "outputs = net(images)\n",
    "_, predicted = torch.max(outputs.data, 1)\n",
    "print('Predicted:    ', ' '.join('%5s' % classes[predicted[j]] for j in range(4)))"
   ]
  },
  {
   "cell_type": "markdown",
   "metadata": {
    "id": "ISA6LJJO81Tg"
   },
   "source": [
    "Let us look at how the network performs on the whole dataset."
   ]
  },
  {
   "cell_type": "code",
   "execution_count": 15,
   "metadata": {
    "colab": {
     "base_uri": "https://localhost:8080/",
     "height": 35
    },
    "id": "Smv6_BwF81Ti",
    "outputId": "d352e50c-2a52-4425-93ba-200663e7336a"
   },
   "outputs": [
    {
     "name": "stdout",
     "output_type": "stream",
     "text": [
      "Accuracy of the network on the 10000 test images: 74.58 %\n"
     ]
    }
   ],
   "source": [
    "correct = 0\n",
    "total = 0\n",
    "\n",
    "for data in testloader:\n",
    "    images, labels = data\n",
    "    outputs = net(Variable(images))\n",
    "    _, predicted = torch.max(outputs.data, 1)\n",
    "    total += labels.size(0)\n",
    "    correct += (predicted == labels).sum()\n",
    "\n",
    "print('Accuracy of the network on the {} test images: {:4.2f} %'.format(\n",
    "    testset.data.shape[0], 100 * correct.true_divide(total)))"
   ]
  },
  {
   "cell_type": "markdown",
   "metadata": {
    "id": "QMZRvhaW81Tl"
   },
   "source": [
    "Hopefully the network is better than chance, which is $\\frac{1}{\\text{number of classes}}$ accuracy (randomly picking\n",
    "a class).\n",
    "\n",
    "\n",
    "We can also examine which class the network found the most difficult (makes more sense if you have many clases):"
   ]
  },
  {
   "cell_type": "code",
   "execution_count": 16,
   "metadata": {
    "colab": {
     "base_uri": "https://localhost:8080/",
     "height": 191
    },
    "id": "WqVTQgKq81Tl",
    "outputId": "dfce376e-5374-4cfc-e5c8-4defad07a368"
   },
   "outputs": [
    {
     "name": "stdout",
     "output_type": "stream",
     "text": [
      "Accuracy of plane : 81.10 %\n",
      "Accuracy of car   : 88.30 %\n",
      "Accuracy of bird  : 70.30 %\n",
      "Accuracy of cat   : 58.20 %\n",
      "Accuracy of deer  : 70.10 %\n",
      "Accuracy of dog   : 62.10 %\n",
      "Accuracy of frog  : 75.70 %\n",
      "Accuracy of horse : 76.10 %\n",
      "Accuracy of ship  : 86.20 %\n",
      "Accuracy of truck : 80.90 %\n"
     ]
    }
   ],
   "source": [
    "class_total = list(0. for i in range(len(classes)))\n",
    "class_correct = list(0. for i in range(len(classes)))\n",
    "\n",
    "for data in testloader:\n",
    "    images, labels = data\n",
    "    outputs = net(Variable(images))\n",
    "    _, predicted = torch.max(outputs.data, 1)\n",
    "    c = (predicted == labels).squeeze()\n",
    "    \n",
    "    for i in range(len(c)):\n",
    "        label = labels[i]\n",
    "        class_correct[label] += c[i].numpy()\n",
    "        class_total[label] += 1\n",
    "\n",
    "for i in range(len(classes)):\n",
    "    print('Accuracy of {:5s} : {:5.2f} %'.format(\n",
    "        classes[i], 100 * class_correct[i] / class_total[i]))"
   ]
  },
  {
   "cell_type": "markdown",
   "metadata": {
    "id": "ocnQOBAl81Tn"
   },
   "source": [
    "**Assignment 4:** \n",
    "1. Go back and improve performance of the network. \n",
    " * If you are using all 10 classes you should get a test accuracy above 55%, but see how much further you can get it!\n",
    " * If you are using only 2 classes (e.g. cat and dog) you should get a test accuracy above 60%, but see how much further you can get it!\n",
    "\n",
    "2. Briefly describe what you did and any experiments you did along the way as well as what results you obtained.\n",
    "Did anything surprise you during the exercise?\n",
    "\n",
    "3. Write down key lessons/insights you got (if any) during this exercise.\n",
    "\n",
    "**Answer:**"
   ]
  },
  {
   "cell_type": "markdown",
   "metadata": {
    "id": "xLwORer_tZYE"
   },
   "source": [
    "# **Experiments Applied:**\n",
    "\n",
    "- Since we have enough roughly enough data, after a few epochs, I have noticed underfitting. \n",
    "\n",
    "- After training sufficiently (I suppose acc. to model and time spent), I tried to increase/decrease learning rate and increase/decrease epochs but it didn't help a lot.\n",
    "\n",
    "- After adding more convolutional layers and fully-connected layers, I had better results.\n",
    "\n",
    "-  Afterwards, I used more filters to incrase the width of the network. These increments helped the learning ability of the network and indeed increased the accuracy.\n",
    "\n",
    "# **Lessons Learned:**\n",
    "\n",
    "- Building a more detailed and a deeper structure usually gives a better performance but there is always a cost such as computational burden makes the training slower. And there isn't point to create a heavy model if there isn't enough data.\n",
    "\n",
    "- When we use both of the regularization terms, then it underfits more. Therefore use of regularization should be optimized either."
   ]
  },
  {
   "cell_type": "markdown",
   "metadata": {
    "id": "8Nzefavy81To"
   },
   "source": [
    "# Training on GPU\n",
    "\n",
    "**Optional Assignment:**\n",
    "If you have a GPU we suggest that you try and rewrite the code above to run on the GPU\n",
    "___\n",
    "\n",
    "Just like how you transfer a Tensor on to the GPU, you transfer the neural net onto the GPU.\n",
    "This will recursively go over all modules and convert their parameters and buffers to CUDA tensors:\n",
    "\n",
    "```\n",
    "    net.cuda()\n",
    "```\n",
    "\n",
    "Remember that you will have to send the inputs and targets at every step to the GPU too:\n",
    "\n",
    "```\n",
    "    inputs, labels = Variable(inputs.cuda()), Variable(labels.cuda())\n",
    "```\n",
    "\n",
    "Why dont I notice MASSIVE speedup compared to CPU? \n",
    "Because your network is realllly small.\n",
    "\n",
    "**Exercise:** Try increasing the width of your network (argument 2 of\n",
    "the first ``nn.Conv2d``, and argument 1 of the second ``nn.Conv2d`` –\n",
    "they need to be the same number), see what kind of speedup you get.\n",
    "\n",
    "**Goals achieved**:\n",
    "\n",
    "- Understanding PyTorch's Tensor library and neural networks at a high level.\n",
    "- Train a small neural network to classify images\n",
    "\n",
    "## Setting up GPU in Colab\n",
    "\n",
    "In Colab, you will get 12 hours of execution time but the session will be disconnected if you are idle for more than 60 minutes. It means that for every 12 hours Disk, RAM, CPU Cache and the Data that is on our allocated virtual machine will get erased.\n",
    "\n",
    "To enable GPU hardware accelerator, just go to **Runtime -> Change runtime type -> Hardware accelerator -> GPU**"
   ]
  },
  {
   "cell_type": "markdown",
   "metadata": {
    "id": "b8mEIylU81Tp"
   },
   "source": [
    "# Michael Nielsen book exercise of own choice\n",
    "\n",
    "**Assignment 5:** Pick an exercise of own choice from [Michael Nielsens book](http://neuralnetworksanddeeplearning.com/)\n",
    "\n",
    "**Answer:**\n",
    "\n",
    "**Question:**\n",
    "\n",
    "What would go wrong if we used $\\mu < 0$ in the momentum technique?\n",
    "\n",
    "**Answer:**\n",
    "\n",
    "We use the momentum technique in order to relief the oscillation.\n",
    "\n",
    "However, if $\\mu > 1$ , when the direction of the gradient is opposite to the previous one, we will follow the previous direction. In the visualization example of \"rolling stone\", if we follows one direction all the time until we passed over the global minimum by a step, instead of change direction and move back, we will follow the previous direction and moving away.\n",
    "\n",
    "If $\\mu < 0$ , when direction of current gradient is opposite to the previous one, this momentum will increase the current gradient, which means enhencing the oscillation.\n",
    "\n"
   ]
  },
  {
   "cell_type": "code",
   "execution_count": null,
   "metadata": {
    "id": "y8XnQgUtx0pq"
   },
   "outputs": [],
   "source": []
  }
 ],
 "metadata": {
  "accelerator": "GPU",
  "colab": {
   "collapsed_sections": [],
   "name": "Solutions_s192136_4.3-EXE-CIFAR-10.ipynb",
   "provenance": []
  },
  "kernelspec": {
   "display_name": "Python 3",
   "language": "python",
   "name": "python3"
  },
  "language_info": {
   "codemirror_mode": {
    "name": "ipython",
    "version": 3
   },
   "file_extension": ".py",
   "mimetype": "text/x-python",
   "name": "python",
   "nbconvert_exporter": "python",
   "pygments_lexer": "ipython3",
   "version": "3.7.1"
  },
  "widgets": {
   "application/vnd.jupyter.widget-state+json": {
    "017da63ab3df4b30887a281d8f0e2c27": {
     "model_module": "@jupyter-widgets/controls",
     "model_name": "DescriptionStyleModel",
     "state": {
      "_model_module": "@jupyter-widgets/controls",
      "_model_module_version": "1.5.0",
      "_model_name": "DescriptionStyleModel",
      "_view_count": null,
      "_view_module": "@jupyter-widgets/base",
      "_view_module_version": "1.2.0",
      "_view_name": "StyleView",
      "description_width": ""
     }
    },
    "04c00a2ad49348bbb840c08694cf5269": {
     "model_module": "@jupyter-widgets/base",
     "model_name": "LayoutModel",
     "state": {
      "_model_module": "@jupyter-widgets/base",
      "_model_module_version": "1.2.0",
      "_model_name": "LayoutModel",
      "_view_count": null,
      "_view_module": "@jupyter-widgets/base",
      "_view_module_version": "1.2.0",
      "_view_name": "LayoutView",
      "align_content": null,
      "align_items": null,
      "align_self": null,
      "border": null,
      "bottom": null,
      "display": null,
      "flex": null,
      "flex_flow": null,
      "grid_area": null,
      "grid_auto_columns": null,
      "grid_auto_flow": null,
      "grid_auto_rows": null,
      "grid_column": null,
      "grid_gap": null,
      "grid_row": null,
      "grid_template_areas": null,
      "grid_template_columns": null,
      "grid_template_rows": null,
      "height": null,
      "justify_content": null,
      "justify_items": null,
      "left": null,
      "margin": null,
      "max_height": null,
      "max_width": null,
      "min_height": null,
      "min_width": null,
      "object_fit": null,
      "object_position": null,
      "order": null,
      "overflow": null,
      "overflow_x": null,
      "overflow_y": null,
      "padding": null,
      "right": null,
      "top": null,
      "visibility": null,
      "width": null
     }
    },
    "0bb25d16b7de4a3fa56a00d8c9c5cca1": {
     "model_module": "@jupyter-widgets/controls",
     "model_name": "HBoxModel",
     "state": {
      "_dom_classes": [],
      "_model_module": "@jupyter-widgets/controls",
      "_model_module_version": "1.5.0",
      "_model_name": "HBoxModel",
      "_view_count": null,
      "_view_module": "@jupyter-widgets/controls",
      "_view_module_version": "1.5.0",
      "_view_name": "HBoxView",
      "box_style": "",
      "children": [
       "IPY_MODEL_3dd073a8f4a74809b1ae34990268cb48",
       "IPY_MODEL_96428da2942a450aab2463463c3d69f2"
      ],
      "layout": "IPY_MODEL_a6710b1dc7604809b59eaf8081a9da0b"
     }
    },
    "3a9cb2d5e3894cc38fc0dd7b7f0c775d": {
     "model_module": "@jupyter-widgets/base",
     "model_name": "LayoutModel",
     "state": {
      "_model_module": "@jupyter-widgets/base",
      "_model_module_version": "1.2.0",
      "_model_name": "LayoutModel",
      "_view_count": null,
      "_view_module": "@jupyter-widgets/base",
      "_view_module_version": "1.2.0",
      "_view_name": "LayoutView",
      "align_content": null,
      "align_items": null,
      "align_self": null,
      "border": null,
      "bottom": null,
      "display": null,
      "flex": null,
      "flex_flow": null,
      "grid_area": null,
      "grid_auto_columns": null,
      "grid_auto_flow": null,
      "grid_auto_rows": null,
      "grid_column": null,
      "grid_gap": null,
      "grid_row": null,
      "grid_template_areas": null,
      "grid_template_columns": null,
      "grid_template_rows": null,
      "height": null,
      "justify_content": null,
      "justify_items": null,
      "left": null,
      "margin": null,
      "max_height": null,
      "max_width": null,
      "min_height": null,
      "min_width": null,
      "object_fit": null,
      "object_position": null,
      "order": null,
      "overflow": null,
      "overflow_x": null,
      "overflow_y": null,
      "padding": null,
      "right": null,
      "top": null,
      "visibility": null,
      "width": null
     }
    },
    "3dd073a8f4a74809b1ae34990268cb48": {
     "model_module": "@jupyter-widgets/controls",
     "model_name": "FloatProgressModel",
     "state": {
      "_dom_classes": [],
      "_model_module": "@jupyter-widgets/controls",
      "_model_module_version": "1.5.0",
      "_model_name": "FloatProgressModel",
      "_view_count": null,
      "_view_module": "@jupyter-widgets/controls",
      "_view_module_version": "1.5.0",
      "_view_name": "ProgressView",
      "bar_style": "success",
      "description": "",
      "description_tooltip": null,
      "layout": "IPY_MODEL_3a9cb2d5e3894cc38fc0dd7b7f0c775d",
      "max": 1,
      "min": 0,
      "orientation": "horizontal",
      "style": "IPY_MODEL_de4ede3b169a47309db4abc983527fa0",
      "value": 1
     }
    },
    "96428da2942a450aab2463463c3d69f2": {
     "model_module": "@jupyter-widgets/controls",
     "model_name": "HTMLModel",
     "state": {
      "_dom_classes": [],
      "_model_module": "@jupyter-widgets/controls",
      "_model_module_version": "1.5.0",
      "_model_name": "HTMLModel",
      "_view_count": null,
      "_view_module": "@jupyter-widgets/controls",
      "_view_module_version": "1.5.0",
      "_view_name": "HTMLView",
      "description": "",
      "description_tooltip": null,
      "layout": "IPY_MODEL_04c00a2ad49348bbb840c08694cf5269",
      "placeholder": "​",
      "style": "IPY_MODEL_017da63ab3df4b30887a281d8f0e2c27",
      "value": " 170500096/? [00:09&lt;00:00, 18704871.62it/s]"
     }
    },
    "a6710b1dc7604809b59eaf8081a9da0b": {
     "model_module": "@jupyter-widgets/base",
     "model_name": "LayoutModel",
     "state": {
      "_model_module": "@jupyter-widgets/base",
      "_model_module_version": "1.2.0",
      "_model_name": "LayoutModel",
      "_view_count": null,
      "_view_module": "@jupyter-widgets/base",
      "_view_module_version": "1.2.0",
      "_view_name": "LayoutView",
      "align_content": null,
      "align_items": null,
      "align_self": null,
      "border": null,
      "bottom": null,
      "display": null,
      "flex": null,
      "flex_flow": null,
      "grid_area": null,
      "grid_auto_columns": null,
      "grid_auto_flow": null,
      "grid_auto_rows": null,
      "grid_column": null,
      "grid_gap": null,
      "grid_row": null,
      "grid_template_areas": null,
      "grid_template_columns": null,
      "grid_template_rows": null,
      "height": null,
      "justify_content": null,
      "justify_items": null,
      "left": null,
      "margin": null,
      "max_height": null,
      "max_width": null,
      "min_height": null,
      "min_width": null,
      "object_fit": null,
      "object_position": null,
      "order": null,
      "overflow": null,
      "overflow_x": null,
      "overflow_y": null,
      "padding": null,
      "right": null,
      "top": null,
      "visibility": null,
      "width": null
     }
    },
    "de4ede3b169a47309db4abc983527fa0": {
     "model_module": "@jupyter-widgets/controls",
     "model_name": "ProgressStyleModel",
     "state": {
      "_model_module": "@jupyter-widgets/controls",
      "_model_module_version": "1.5.0",
      "_model_name": "ProgressStyleModel",
      "_view_count": null,
      "_view_module": "@jupyter-widgets/base",
      "_view_module_version": "1.2.0",
      "_view_name": "StyleView",
      "bar_color": null,
      "description_width": "initial"
     }
    }
   }
  }
 },
 "nbformat": 4,
 "nbformat_minor": 1
}
